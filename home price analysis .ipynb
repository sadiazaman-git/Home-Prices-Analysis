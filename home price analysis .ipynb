{
 "cells": [
  {
   "cell_type": "markdown",
   "id": "6ea7b1bf",
   "metadata": {},
   "source": [
    "## Import Required Libraries"
   ]
  },
  {
   "cell_type": "code",
   "execution_count": 1,
   "id": "03217bfc",
   "metadata": {},
   "outputs": [],
   "source": [
    "import pandas as pd\n",
    "# import us\n",
    "from datetime import datetime\n",
    "import matplotlib.pyplot as plt\n",
    "import warnings\n",
    "warnings.filterwarnings('ignore')"
   ]
  },
  {
   "cell_type": "markdown",
   "id": "f5529d02",
   "metadata": {},
   "source": [
    "## Read Datasets"
   ]
  },
  {
   "cell_type": "code",
   "execution_count": 2,
   "id": "6d0c2d1b-1ac7-4ba2-be2f-9daff5240d6d",
   "metadata": {},
   "outputs": [
    {
     "data": {
      "text/html": [
       "<div>\n",
       "<style scoped>\n",
       "    .dataframe tbody tr th:only-of-type {\n",
       "        vertical-align: middle;\n",
       "    }\n",
       "\n",
       "    .dataframe tbody tr th {\n",
       "        vertical-align: top;\n",
       "    }\n",
       "\n",
       "    .dataframe thead th {\n",
       "        text-align: right;\n",
       "    }\n",
       "</style>\n",
       "<table border=\"1\" class=\"dataframe\">\n",
       "  <thead>\n",
       "    <tr style=\"text-align: right;\">\n",
       "      <th></th>\n",
       "      <th>RegionID</th>\n",
       "      <th>SizeRank</th>\n",
       "      <th>Location</th>\n",
       "      <th>1/31/2000</th>\n",
       "      <th>2/29/2000</th>\n",
       "      <th>3/31/2000</th>\n",
       "      <th>4/30/2000</th>\n",
       "      <th>5/31/2000</th>\n",
       "      <th>6/30/2000</th>\n",
       "      <th>7/31/2000</th>\n",
       "      <th>...</th>\n",
       "      <th>4/30/2022</th>\n",
       "      <th>5/31/2022</th>\n",
       "      <th>6/30/2022</th>\n",
       "      <th>7/31/2022</th>\n",
       "      <th>8/31/2022</th>\n",
       "      <th>9/30/2022</th>\n",
       "      <th>10/31/2022</th>\n",
       "      <th>11/30/2022</th>\n",
       "      <th>12/31/2022</th>\n",
       "      <th>1/31/2023</th>\n",
       "    </tr>\n",
       "  </thead>\n",
       "  <tbody>\n",
       "    <tr>\n",
       "      <th>0</th>\n",
       "      <td>394913</td>\n",
       "      <td>1</td>\n",
       "      <td>New York, NY</td>\n",
       "      <td>181391.9783</td>\n",
       "      <td>182163.9208</td>\n",
       "      <td>182941.8163</td>\n",
       "      <td>184517.2890</td>\n",
       "      <td>186145.6237</td>\n",
       "      <td>187950.1613</td>\n",
       "      <td>189921.5392</td>\n",
       "      <td>...</td>\n",
       "      <td>561266.5188</td>\n",
       "      <td>567909.3853</td>\n",
       "      <td>574055.6109</td>\n",
       "      <td>578134.7169</td>\n",
       "      <td>579224.7183</td>\n",
       "      <td>577396.7827</td>\n",
       "      <td>575299.5895</td>\n",
       "      <td>573540.8633</td>\n",
       "      <td>571164.0735</td>\n",
       "      <td>571129.8381</td>\n",
       "    </tr>\n",
       "    <tr>\n",
       "      <th>1</th>\n",
       "      <td>753899</td>\n",
       "      <td>2</td>\n",
       "      <td>Los Angeles, CA</td>\n",
       "      <td>216288.4908</td>\n",
       "      <td>217088.5199</td>\n",
       "      <td>218157.4498</td>\n",
       "      <td>220302.7794</td>\n",
       "      <td>222656.3729</td>\n",
       "      <td>224999.3133</td>\n",
       "      <td>227389.7577</td>\n",
       "      <td>...</td>\n",
       "      <td>866791.4952</td>\n",
       "      <td>877943.1300</td>\n",
       "      <td>884285.4051</td>\n",
       "      <td>885962.6057</td>\n",
       "      <td>882724.2034</td>\n",
       "      <td>876940.8341</td>\n",
       "      <td>871737.3300</td>\n",
       "      <td>868143.7143</td>\n",
       "      <td>863937.5709</td>\n",
       "      <td>855850.8571</td>\n",
       "    </tr>\n",
       "    <tr>\n",
       "      <th>2</th>\n",
       "      <td>394463</td>\n",
       "      <td>3</td>\n",
       "      <td>Chicago, IL</td>\n",
       "      <td>140446.9430</td>\n",
       "      <td>140580.1069</td>\n",
       "      <td>140830.7033</td>\n",
       "      <td>141455.0836</td>\n",
       "      <td>142204.8211</td>\n",
       "      <td>143045.1587</td>\n",
       "      <td>143936.1630</td>\n",
       "      <td>...</td>\n",
       "      <td>285882.2169</td>\n",
       "      <td>288752.3799</td>\n",
       "      <td>290693.5349</td>\n",
       "      <td>291105.6857</td>\n",
       "      <td>290463.0955</td>\n",
       "      <td>288855.9709</td>\n",
       "      <td>287575.7532</td>\n",
       "      <td>286890.1417</td>\n",
       "      <td>286224.0249</td>\n",
       "      <td>286791.7425</td>\n",
       "    </tr>\n",
       "    <tr>\n",
       "      <th>3</th>\n",
       "      <td>394514</td>\n",
       "      <td>4</td>\n",
       "      <td>Dallas, TX</td>\n",
       "      <td>125298.5074</td>\n",
       "      <td>125361.2079</td>\n",
       "      <td>125432.0650</td>\n",
       "      <td>125609.3263</td>\n",
       "      <td>125835.7850</td>\n",
       "      <td>126061.3904</td>\n",
       "      <td>126297.5666</td>\n",
       "      <td>...</td>\n",
       "      <td>357099.5721</td>\n",
       "      <td>363814.4164</td>\n",
       "      <td>369218.7401</td>\n",
       "      <td>371931.5195</td>\n",
       "      <td>371959.0543</td>\n",
       "      <td>370048.7040</td>\n",
       "      <td>368024.0027</td>\n",
       "      <td>366169.9550</td>\n",
       "      <td>363708.3334</td>\n",
       "      <td>361199.2355</td>\n",
       "    </tr>\n",
       "    <tr>\n",
       "      <th>4</th>\n",
       "      <td>394692</td>\n",
       "      <td>5</td>\n",
       "      <td>Houston, TX</td>\n",
       "      <td>115156.3164</td>\n",
       "      <td>115174.6768</td>\n",
       "      <td>115091.9295</td>\n",
       "      <td>115135.8005</td>\n",
       "      <td>115177.5944</td>\n",
       "      <td>115354.6637</td>\n",
       "      <td>115528.5906</td>\n",
       "      <td>...</td>\n",
       "      <td>288093.0582</td>\n",
       "      <td>292671.5442</td>\n",
       "      <td>296675.2335</td>\n",
       "      <td>299371.3230</td>\n",
       "      <td>300457.1817</td>\n",
       "      <td>300223.0117</td>\n",
       "      <td>299624.7613</td>\n",
       "      <td>298972.1881</td>\n",
       "      <td>297636.1824</td>\n",
       "      <td>296082.5717</td>\n",
       "    </tr>\n",
       "  </tbody>\n",
       "</table>\n",
       "<p>5 rows × 280 columns</p>\n",
       "</div>"
      ],
      "text/plain": [
       "   RegionID  SizeRank         Location    1/31/2000    2/29/2000    3/31/2000  \\\n",
       "0    394913         1     New York, NY  181391.9783  182163.9208  182941.8163   \n",
       "1    753899         2  Los Angeles, CA  216288.4908  217088.5199  218157.4498   \n",
       "2    394463         3      Chicago, IL  140446.9430  140580.1069  140830.7033   \n",
       "3    394514         4       Dallas, TX  125298.5074  125361.2079  125432.0650   \n",
       "4    394692         5      Houston, TX  115156.3164  115174.6768  115091.9295   \n",
       "\n",
       "     4/30/2000    5/31/2000    6/30/2000    7/31/2000  ...    4/30/2022  \\\n",
       "0  184517.2890  186145.6237  187950.1613  189921.5392  ...  561266.5188   \n",
       "1  220302.7794  222656.3729  224999.3133  227389.7577  ...  866791.4952   \n",
       "2  141455.0836  142204.8211  143045.1587  143936.1630  ...  285882.2169   \n",
       "3  125609.3263  125835.7850  126061.3904  126297.5666  ...  357099.5721   \n",
       "4  115135.8005  115177.5944  115354.6637  115528.5906  ...  288093.0582   \n",
       "\n",
       "     5/31/2022    6/30/2022    7/31/2022    8/31/2022    9/30/2022  \\\n",
       "0  567909.3853  574055.6109  578134.7169  579224.7183  577396.7827   \n",
       "1  877943.1300  884285.4051  885962.6057  882724.2034  876940.8341   \n",
       "2  288752.3799  290693.5349  291105.6857  290463.0955  288855.9709   \n",
       "3  363814.4164  369218.7401  371931.5195  371959.0543  370048.7040   \n",
       "4  292671.5442  296675.2335  299371.3230  300457.1817  300223.0117   \n",
       "\n",
       "    10/31/2022   11/30/2022   12/31/2022    1/31/2023  \n",
       "0  575299.5895  573540.8633  571164.0735  571129.8381  \n",
       "1  871737.3300  868143.7143  863937.5709  855850.8571  \n",
       "2  287575.7532  286890.1417  286224.0249  286791.7425  \n",
       "3  368024.0027  366169.9550  363708.3334  361199.2355  \n",
       "4  299624.7613  298972.1881  297636.1824  296082.5717  \n",
       "\n",
       "[5 rows x 280 columns]"
      ]
     },
     "execution_count": 2,
     "metadata": {},
     "output_type": "execute_result"
    }
   ],
   "source": [
    "# Load the data from CSV files with header in the first row\n",
    "homes_df = pd.read_csv(\"data/homes.csv\", header=0)\n",
    "homes_df.head()"
   ]
  },
  {
   "cell_type": "code",
   "execution_count": 3,
   "id": "fc3fed56",
   "metadata": {},
   "outputs": [
    {
     "data": {
      "text/html": [
       "<div>\n",
       "<style scoped>\n",
       "    .dataframe tbody tr th:only-of-type {\n",
       "        vertical-align: middle;\n",
       "    }\n",
       "\n",
       "    .dataframe tbody tr th {\n",
       "        vertical-align: top;\n",
       "    }\n",
       "\n",
       "    .dataframe thead th {\n",
       "        text-align: right;\n",
       "    }\n",
       "</style>\n",
       "<table border=\"1\" class=\"dataframe\">\n",
       "  <thead>\n",
       "    <tr style=\"text-align: right;\">\n",
       "      <th></th>\n",
       "      <th>RegionID</th>\n",
       "      <th>SizeRank</th>\n",
       "      <th>Location</th>\n",
       "      <th>3/31/2015</th>\n",
       "      <th>4/30/2015</th>\n",
       "      <th>5/31/2015</th>\n",
       "      <th>6/30/2015</th>\n",
       "      <th>7/31/2015</th>\n",
       "      <th>8/31/2015</th>\n",
       "      <th>9/30/2015</th>\n",
       "      <th>...</th>\n",
       "      <th>4/30/2022</th>\n",
       "      <th>5/31/2022</th>\n",
       "      <th>6/30/2022</th>\n",
       "      <th>7/31/2022</th>\n",
       "      <th>8/31/2022</th>\n",
       "      <th>9/30/2022</th>\n",
       "      <th>10/31/2022</th>\n",
       "      <th>11/30/2022</th>\n",
       "      <th>12/31/2022</th>\n",
       "      <th>1/31/2023</th>\n",
       "    </tr>\n",
       "  </thead>\n",
       "  <tbody>\n",
       "    <tr>\n",
       "      <th>0</th>\n",
       "      <td>394913</td>\n",
       "      <td>1</td>\n",
       "      <td>New York, NY</td>\n",
       "      <td>2385.219396</td>\n",
       "      <td>2403.753582</td>\n",
       "      <td>2421.231076</td>\n",
       "      <td>2439.382330</td>\n",
       "      <td>2448.425349</td>\n",
       "      <td>2462.016357</td>\n",
       "      <td>2468.739863</td>\n",
       "      <td>...</td>\n",
       "      <td>2955.859223</td>\n",
       "      <td>3015.296055</td>\n",
       "      <td>3076.799046</td>\n",
       "      <td>3130.332141</td>\n",
       "      <td>3154.033247</td>\n",
       "      <td>3151.025599</td>\n",
       "      <td>3127.883766</td>\n",
       "      <td>3095.742311</td>\n",
       "      <td>3072.639223</td>\n",
       "      <td>3065.017318</td>\n",
       "    </tr>\n",
       "    <tr>\n",
       "      <th>1</th>\n",
       "      <td>753899</td>\n",
       "      <td>2</td>\n",
       "      <td>Los Angeles, CA</td>\n",
       "      <td>1914.730864</td>\n",
       "      <td>1927.655457</td>\n",
       "      <td>1940.995475</td>\n",
       "      <td>1952.425792</td>\n",
       "      <td>1968.438708</td>\n",
       "      <td>1982.282355</td>\n",
       "      <td>1993.858844</td>\n",
       "      <td>...</td>\n",
       "      <td>2823.035882</td>\n",
       "      <td>2857.376769</td>\n",
       "      <td>2882.139364</td>\n",
       "      <td>2903.194297</td>\n",
       "      <td>2916.149142</td>\n",
       "      <td>2923.484011</td>\n",
       "      <td>2919.007841</td>\n",
       "      <td>2910.841929</td>\n",
       "      <td>2902.889391</td>\n",
       "      <td>2896.943067</td>\n",
       "    </tr>\n",
       "    <tr>\n",
       "      <th>2</th>\n",
       "      <td>394463</td>\n",
       "      <td>3</td>\n",
       "      <td>Chicago, IL</td>\n",
       "      <td>1422.672410</td>\n",
       "      <td>1435.441402</td>\n",
       "      <td>1446.702786</td>\n",
       "      <td>1470.374315</td>\n",
       "      <td>1476.787061</td>\n",
       "      <td>1483.009421</td>\n",
       "      <td>1481.020743</td>\n",
       "      <td>...</td>\n",
       "      <td>1795.344311</td>\n",
       "      <td>1820.754624</td>\n",
       "      <td>1841.547087</td>\n",
       "      <td>1860.531252</td>\n",
       "      <td>1868.719705</td>\n",
       "      <td>1871.457472</td>\n",
       "      <td>1869.964119</td>\n",
       "      <td>1863.995689</td>\n",
       "      <td>1864.939703</td>\n",
       "      <td>1868.858460</td>\n",
       "    </tr>\n",
       "    <tr>\n",
       "      <th>3</th>\n",
       "      <td>394514</td>\n",
       "      <td>4</td>\n",
       "      <td>Dallas, TX</td>\n",
       "      <td>1157.334850</td>\n",
       "      <td>1167.824303</td>\n",
       "      <td>1179.831226</td>\n",
       "      <td>1187.613051</td>\n",
       "      <td>1193.868953</td>\n",
       "      <td>1198.609530</td>\n",
       "      <td>1201.245156</td>\n",
       "      <td>...</td>\n",
       "      <td>1740.651141</td>\n",
       "      <td>1769.936539</td>\n",
       "      <td>1803.818103</td>\n",
       "      <td>1827.997976</td>\n",
       "      <td>1837.990096</td>\n",
       "      <td>1837.313291</td>\n",
       "      <td>1825.096163</td>\n",
       "      <td>1810.306142</td>\n",
       "      <td>1795.009792</td>\n",
       "      <td>1789.450877</td>\n",
       "    </tr>\n",
       "    <tr>\n",
       "      <th>4</th>\n",
       "      <td>394692</td>\n",
       "      <td>5</td>\n",
       "      <td>Houston, TX</td>\n",
       "      <td>1308.796225</td>\n",
       "      <td>1316.986178</td>\n",
       "      <td>1326.252241</td>\n",
       "      <td>1335.459857</td>\n",
       "      <td>1340.496956</td>\n",
       "      <td>1344.864896</td>\n",
       "      <td>1343.707876</td>\n",
       "      <td>...</td>\n",
       "      <td>1639.938463</td>\n",
       "      <td>1655.470752</td>\n",
       "      <td>1670.135046</td>\n",
       "      <td>1682.955319</td>\n",
       "      <td>1690.332147</td>\n",
       "      <td>1689.515448</td>\n",
       "      <td>1684.223354</td>\n",
       "      <td>1675.593091</td>\n",
       "      <td>1669.897868</td>\n",
       "      <td>1674.996101</td>\n",
       "    </tr>\n",
       "  </tbody>\n",
       "</table>\n",
       "<p>5 rows × 98 columns</p>\n",
       "</div>"
      ],
      "text/plain": [
       "   RegionID  SizeRank         Location    3/31/2015    4/30/2015    5/31/2015  \\\n",
       "0    394913         1     New York, NY  2385.219396  2403.753582  2421.231076   \n",
       "1    753899         2  Los Angeles, CA  1914.730864  1927.655457  1940.995475   \n",
       "2    394463         3      Chicago, IL  1422.672410  1435.441402  1446.702786   \n",
       "3    394514         4       Dallas, TX  1157.334850  1167.824303  1179.831226   \n",
       "4    394692         5      Houston, TX  1308.796225  1316.986178  1326.252241   \n",
       "\n",
       "     6/30/2015    7/31/2015    8/31/2015    9/30/2015  ...    4/30/2022  \\\n",
       "0  2439.382330  2448.425349  2462.016357  2468.739863  ...  2955.859223   \n",
       "1  1952.425792  1968.438708  1982.282355  1993.858844  ...  2823.035882   \n",
       "2  1470.374315  1476.787061  1483.009421  1481.020743  ...  1795.344311   \n",
       "3  1187.613051  1193.868953  1198.609530  1201.245156  ...  1740.651141   \n",
       "4  1335.459857  1340.496956  1344.864896  1343.707876  ...  1639.938463   \n",
       "\n",
       "     5/31/2022    6/30/2022    7/31/2022    8/31/2022    9/30/2022  \\\n",
       "0  3015.296055  3076.799046  3130.332141  3154.033247  3151.025599   \n",
       "1  2857.376769  2882.139364  2903.194297  2916.149142  2923.484011   \n",
       "2  1820.754624  1841.547087  1860.531252  1868.719705  1871.457472   \n",
       "3  1769.936539  1803.818103  1827.997976  1837.990096  1837.313291   \n",
       "4  1655.470752  1670.135046  1682.955319  1690.332147  1689.515448   \n",
       "\n",
       "    10/31/2022   11/30/2022   12/31/2022    1/31/2023  \n",
       "0  3127.883766  3095.742311  3072.639223  3065.017318  \n",
       "1  2919.007841  2910.841929  2902.889391  2896.943067  \n",
       "2  1869.964119  1863.995689  1864.939703  1868.858460  \n",
       "3  1825.096163  1810.306142  1795.009792  1789.450877  \n",
       "4  1684.223354  1675.593091  1669.897868  1674.996101  \n",
       "\n",
       "[5 rows x 98 columns]"
      ]
     },
     "execution_count": 3,
     "metadata": {},
     "output_type": "execute_result"
    }
   ],
   "source": [
    "rentals_df = pd.read_csv(\"data/rentals.csv\", header=0)\n",
    "rentals_df.head()"
   ]
  },
  {
   "cell_type": "markdown",
   "id": "da32263a",
   "metadata": {},
   "source": [
    "## Data Preprocessing"
   ]
  },
  {
   "cell_type": "markdown",
   "id": "175fc428",
   "metadata": {},
   "source": [
    "#### Perform any necessary data cleaning and transformations to prepare the datasets for analysis.\n"
   ]
  },
  {
   "cell_type": "markdown",
   "id": "703065a6",
   "metadata": {},
   "source": [
    "#### Pivot the date columns to a new single column for date. Convert this date to the year."
   ]
  },
  {
   "cell_type": "code",
   "execution_count": 4,
   "id": "aa349d09",
   "metadata": {},
   "outputs": [],
   "source": [
    "# Melt the date columns in the homes dataset\n",
    "melted_homes = homes_df.melt(id_vars=['RegionID', 'SizeRank', 'Location'],\n",
    "                             var_name='Date',\n",
    "                             value_name='HomePrice')\n",
    "\n",
    "# Melt the date columns in the rentals dataset\n",
    "melted_rentals = rentals_df.melt(id_vars=['RegionID', 'SizeRank', 'Location'],\n",
    "                                 var_name='Date',\n",
    "                                 value_name='RentalPrice')"
   ]
  },
  {
   "cell_type": "code",
   "execution_count": 5,
   "id": "cf55f61b",
   "metadata": {},
   "outputs": [],
   "source": [
    "#convert the date into datetime\n",
    "melted_homes['Date'] = pd.to_datetime(melted_homes['Date'])\n",
    "melted_rentals['Date'] = pd.to_datetime(melted_rentals['Date'])"
   ]
  },
  {
   "cell_type": "markdown",
   "id": "e157f929",
   "metadata": {},
   "source": [
    "#### Merge the datasets based on relevant columns to create a consolidated dataset for analysis."
   ]
  },
  {
   "cell_type": "code",
   "execution_count": 6,
   "id": "5a4d6eea",
   "metadata": {},
   "outputs": [
    {
     "data": {
      "text/html": [
       "<div>\n",
       "<style scoped>\n",
       "    .dataframe tbody tr th:only-of-type {\n",
       "        vertical-align: middle;\n",
       "    }\n",
       "\n",
       "    .dataframe tbody tr th {\n",
       "        vertical-align: top;\n",
       "    }\n",
       "\n",
       "    .dataframe thead th {\n",
       "        text-align: right;\n",
       "    }\n",
       "</style>\n",
       "<table border=\"1\" class=\"dataframe\">\n",
       "  <thead>\n",
       "    <tr style=\"text-align: right;\">\n",
       "      <th></th>\n",
       "      <th>RegionID</th>\n",
       "      <th>SizeRank</th>\n",
       "      <th>Location</th>\n",
       "      <th>Date</th>\n",
       "      <th>HomePrice</th>\n",
       "      <th>RentalPrice</th>\n",
       "    </tr>\n",
       "  </thead>\n",
       "  <tbody>\n",
       "    <tr>\n",
       "      <th>0</th>\n",
       "      <td>394913</td>\n",
       "      <td>1</td>\n",
       "      <td>New York, NY</td>\n",
       "      <td>2015-03-31</td>\n",
       "      <td>348629.7250</td>\n",
       "      <td>2385.219396</td>\n",
       "    </tr>\n",
       "    <tr>\n",
       "      <th>1</th>\n",
       "      <td>753899</td>\n",
       "      <td>2</td>\n",
       "      <td>Los Angeles, CA</td>\n",
       "      <td>2015-03-31</td>\n",
       "      <td>501808.0759</td>\n",
       "      <td>1914.730864</td>\n",
       "    </tr>\n",
       "    <tr>\n",
       "      <th>2</th>\n",
       "      <td>394463</td>\n",
       "      <td>3</td>\n",
       "      <td>Chicago, IL</td>\n",
       "      <td>2015-03-31</td>\n",
       "      <td>184034.2766</td>\n",
       "      <td>1422.672410</td>\n",
       "    </tr>\n",
       "    <tr>\n",
       "      <th>3</th>\n",
       "      <td>394514</td>\n",
       "      <td>4</td>\n",
       "      <td>Dallas, TX</td>\n",
       "      <td>2015-03-31</td>\n",
       "      <td>176313.3574</td>\n",
       "      <td>1157.334850</td>\n",
       "    </tr>\n",
       "    <tr>\n",
       "      <th>4</th>\n",
       "      <td>394692</td>\n",
       "      <td>5</td>\n",
       "      <td>Houston, TX</td>\n",
       "      <td>2015-03-31</td>\n",
       "      <td>171025.8352</td>\n",
       "      <td>1308.796225</td>\n",
       "    </tr>\n",
       "    <tr>\n",
       "      <th>...</th>\n",
       "      <td>...</td>\n",
       "      <td>...</td>\n",
       "      <td>...</td>\n",
       "      <td>...</td>\n",
       "      <td>...</td>\n",
       "      <td>...</td>\n",
       "    </tr>\n",
       "    <tr>\n",
       "      <th>50535</th>\n",
       "      <td>395004</td>\n",
       "      <td>853</td>\n",
       "      <td>Prineville, OR</td>\n",
       "      <td>2023-01-31</td>\n",
       "      <td>411448.5173</td>\n",
       "      <td>1600.000000</td>\n",
       "    </tr>\n",
       "    <tr>\n",
       "      <th>50536</th>\n",
       "      <td>753884</td>\n",
       "      <td>859</td>\n",
       "      <td>Hailey, ID</td>\n",
       "      <td>2023-01-31</td>\n",
       "      <td>811777.1684</td>\n",
       "      <td>2375.000000</td>\n",
       "    </tr>\n",
       "    <tr>\n",
       "      <th>50537</th>\n",
       "      <td>394718</td>\n",
       "      <td>892</td>\n",
       "      <td>Jamestown, ND</td>\n",
       "      <td>2023-01-31</td>\n",
       "      <td>185189.4713</td>\n",
       "      <td>689.333333</td>\n",
       "    </tr>\n",
       "    <tr>\n",
       "      <th>50538</th>\n",
       "      <td>394996</td>\n",
       "      <td>907</td>\n",
       "      <td>Portales, NM</td>\n",
       "      <td>2023-01-31</td>\n",
       "      <td>122624.8499</td>\n",
       "      <td>930.000000</td>\n",
       "    </tr>\n",
       "    <tr>\n",
       "      <th>50539</th>\n",
       "      <td>395186</td>\n",
       "      <td>922</td>\n",
       "      <td>Vermillion, SD</td>\n",
       "      <td>2023-01-31</td>\n",
       "      <td>234414.8829</td>\n",
       "      <td>1250.000000</td>\n",
       "    </tr>\n",
       "  </tbody>\n",
       "</table>\n",
       "<p>50540 rows × 6 columns</p>\n",
       "</div>"
      ],
      "text/plain": [
       "       RegionID  SizeRank         Location       Date    HomePrice  \\\n",
       "0        394913         1     New York, NY 2015-03-31  348629.7250   \n",
       "1        753899         2  Los Angeles, CA 2015-03-31  501808.0759   \n",
       "2        394463         3      Chicago, IL 2015-03-31  184034.2766   \n",
       "3        394514         4       Dallas, TX 2015-03-31  176313.3574   \n",
       "4        394692         5      Houston, TX 2015-03-31  171025.8352   \n",
       "...         ...       ...              ...        ...          ...   \n",
       "50535    395004       853   Prineville, OR 2023-01-31  411448.5173   \n",
       "50536    753884       859       Hailey, ID 2023-01-31  811777.1684   \n",
       "50537    394718       892    Jamestown, ND 2023-01-31  185189.4713   \n",
       "50538    394996       907     Portales, NM 2023-01-31  122624.8499   \n",
       "50539    395186       922   Vermillion, SD 2023-01-31  234414.8829   \n",
       "\n",
       "       RentalPrice  \n",
       "0      2385.219396  \n",
       "1      1914.730864  \n",
       "2      1422.672410  \n",
       "3      1157.334850  \n",
       "4      1308.796225  \n",
       "...            ...  \n",
       "50535  1600.000000  \n",
       "50536  2375.000000  \n",
       "50537   689.333333  \n",
       "50538   930.000000  \n",
       "50539  1250.000000  \n",
       "\n",
       "[50540 rows x 6 columns]"
      ]
     },
     "execution_count": 6,
     "metadata": {},
     "output_type": "execute_result"
    }
   ],
   "source": [
    "merged_df = pd.merge(melted_homes, melted_rentals, on=['RegionID', 'SizeRank', 'Location', 'Date'])\n",
    "merged_df"
   ]
  },
  {
   "cell_type": "code",
   "execution_count": 7,
   "id": "a2af98b0",
   "metadata": {},
   "outputs": [],
   "source": [
    "# Create a new 'Year' column from the 'Date' column\n",
    "merged_df['Year'] = pd.to_datetime(merged_df['Date']).dt.year"
   ]
  },
  {
   "cell_type": "code",
   "execution_count": 8,
   "id": "045fa935",
   "metadata": {},
   "outputs": [
    {
     "data": {
      "text/plain": [
       "RegionID           0\n",
       "SizeRank           0\n",
       "Location           0\n",
       "Date               0\n",
       "HomePrice        156\n",
       "RentalPrice    21288\n",
       "Year               0\n",
       "dtype: int64"
      ]
     },
     "execution_count": 8,
     "metadata": {},
     "output_type": "execute_result"
    }
   ],
   "source": [
    "#check if there are null values\n",
    "merged_df.isna().sum()"
   ]
  },
  {
   "cell_type": "markdown",
   "id": "145cbc9c",
   "metadata": {},
   "source": [
    "#### Now at this point there are two ways to handle these missing values\n",
    "* Drop the null values but in this way we'll loose approximately 35% of the total data\n",
    "* Second is the fill the null values with the average prices but in this way we can risk the true variability of the data"
   ]
  },
  {
   "cell_type": "code",
   "execution_count": 9,
   "id": "56606008",
   "metadata": {},
   "outputs": [],
   "source": [
    "merged_df = merged_df.dropna()"
   ]
  },
  {
   "cell_type": "code",
   "execution_count": 10,
   "id": "855292b1",
   "metadata": {},
   "outputs": [],
   "source": [
    "#fill the null values with average prices \n",
    "# merged_df.fillna(merged_df.mean())"
   ]
  },
  {
   "cell_type": "code",
   "execution_count": 11,
   "id": "c487ba71",
   "metadata": {},
   "outputs": [],
   "source": [
    "#create city and state column\n",
    "merged_df[['city', 'state']] = merged_df['Location'].str.split(',', expand=True)"
   ]
  },
  {
   "cell_type": "code",
   "execution_count": 12,
   "id": "ffaf1158",
   "metadata": {},
   "outputs": [
    {
     "data": {
      "text/html": [
       "<div>\n",
       "<style scoped>\n",
       "    .dataframe tbody tr th:only-of-type {\n",
       "        vertical-align: middle;\n",
       "    }\n",
       "\n",
       "    .dataframe tbody tr th {\n",
       "        vertical-align: top;\n",
       "    }\n",
       "\n",
       "    .dataframe thead th {\n",
       "        text-align: right;\n",
       "    }\n",
       "</style>\n",
       "<table border=\"1\" class=\"dataframe\">\n",
       "  <thead>\n",
       "    <tr style=\"text-align: right;\">\n",
       "      <th></th>\n",
       "      <th>RegionID</th>\n",
       "      <th>SizeRank</th>\n",
       "      <th>Location</th>\n",
       "      <th>Date</th>\n",
       "      <th>HomePrice</th>\n",
       "      <th>RentalPrice</th>\n",
       "      <th>Year</th>\n",
       "      <th>city</th>\n",
       "      <th>state</th>\n",
       "    </tr>\n",
       "  </thead>\n",
       "  <tbody>\n",
       "    <tr>\n",
       "      <th>0</th>\n",
       "      <td>394913</td>\n",
       "      <td>1</td>\n",
       "      <td>New York, NY</td>\n",
       "      <td>2015-03-31</td>\n",
       "      <td>348629.7250</td>\n",
       "      <td>2385.219396</td>\n",
       "      <td>2015</td>\n",
       "      <td>New York</td>\n",
       "      <td>NY</td>\n",
       "    </tr>\n",
       "    <tr>\n",
       "      <th>1</th>\n",
       "      <td>753899</td>\n",
       "      <td>2</td>\n",
       "      <td>Los Angeles, CA</td>\n",
       "      <td>2015-03-31</td>\n",
       "      <td>501808.0759</td>\n",
       "      <td>1914.730864</td>\n",
       "      <td>2015</td>\n",
       "      <td>Los Angeles</td>\n",
       "      <td>CA</td>\n",
       "    </tr>\n",
       "    <tr>\n",
       "      <th>2</th>\n",
       "      <td>394463</td>\n",
       "      <td>3</td>\n",
       "      <td>Chicago, IL</td>\n",
       "      <td>2015-03-31</td>\n",
       "      <td>184034.2766</td>\n",
       "      <td>1422.672410</td>\n",
       "      <td>2015</td>\n",
       "      <td>Chicago</td>\n",
       "      <td>IL</td>\n",
       "    </tr>\n",
       "    <tr>\n",
       "      <th>3</th>\n",
       "      <td>394514</td>\n",
       "      <td>4</td>\n",
       "      <td>Dallas, TX</td>\n",
       "      <td>2015-03-31</td>\n",
       "      <td>176313.3574</td>\n",
       "      <td>1157.334850</td>\n",
       "      <td>2015</td>\n",
       "      <td>Dallas</td>\n",
       "      <td>TX</td>\n",
       "    </tr>\n",
       "    <tr>\n",
       "      <th>4</th>\n",
       "      <td>394692</td>\n",
       "      <td>5</td>\n",
       "      <td>Houston, TX</td>\n",
       "      <td>2015-03-31</td>\n",
       "      <td>171025.8352</td>\n",
       "      <td>1308.796225</td>\n",
       "      <td>2015</td>\n",
       "      <td>Houston</td>\n",
       "      <td>TX</td>\n",
       "    </tr>\n",
       "    <tr>\n",
       "      <th>...</th>\n",
       "      <td>...</td>\n",
       "      <td>...</td>\n",
       "      <td>...</td>\n",
       "      <td>...</td>\n",
       "      <td>...</td>\n",
       "      <td>...</td>\n",
       "      <td>...</td>\n",
       "      <td>...</td>\n",
       "      <td>...</td>\n",
       "    </tr>\n",
       "    <tr>\n",
       "      <th>50535</th>\n",
       "      <td>395004</td>\n",
       "      <td>853</td>\n",
       "      <td>Prineville, OR</td>\n",
       "      <td>2023-01-31</td>\n",
       "      <td>411448.5173</td>\n",
       "      <td>1600.000000</td>\n",
       "      <td>2023</td>\n",
       "      <td>Prineville</td>\n",
       "      <td>OR</td>\n",
       "    </tr>\n",
       "    <tr>\n",
       "      <th>50536</th>\n",
       "      <td>753884</td>\n",
       "      <td>859</td>\n",
       "      <td>Hailey, ID</td>\n",
       "      <td>2023-01-31</td>\n",
       "      <td>811777.1684</td>\n",
       "      <td>2375.000000</td>\n",
       "      <td>2023</td>\n",
       "      <td>Hailey</td>\n",
       "      <td>ID</td>\n",
       "    </tr>\n",
       "    <tr>\n",
       "      <th>50537</th>\n",
       "      <td>394718</td>\n",
       "      <td>892</td>\n",
       "      <td>Jamestown, ND</td>\n",
       "      <td>2023-01-31</td>\n",
       "      <td>185189.4713</td>\n",
       "      <td>689.333333</td>\n",
       "      <td>2023</td>\n",
       "      <td>Jamestown</td>\n",
       "      <td>ND</td>\n",
       "    </tr>\n",
       "    <tr>\n",
       "      <th>50538</th>\n",
       "      <td>394996</td>\n",
       "      <td>907</td>\n",
       "      <td>Portales, NM</td>\n",
       "      <td>2023-01-31</td>\n",
       "      <td>122624.8499</td>\n",
       "      <td>930.000000</td>\n",
       "      <td>2023</td>\n",
       "      <td>Portales</td>\n",
       "      <td>NM</td>\n",
       "    </tr>\n",
       "    <tr>\n",
       "      <th>50539</th>\n",
       "      <td>395186</td>\n",
       "      <td>922</td>\n",
       "      <td>Vermillion, SD</td>\n",
       "      <td>2023-01-31</td>\n",
       "      <td>234414.8829</td>\n",
       "      <td>1250.000000</td>\n",
       "      <td>2023</td>\n",
       "      <td>Vermillion</td>\n",
       "      <td>SD</td>\n",
       "    </tr>\n",
       "  </tbody>\n",
       "</table>\n",
       "<p>29232 rows × 9 columns</p>\n",
       "</div>"
      ],
      "text/plain": [
       "       RegionID  SizeRank         Location       Date    HomePrice  \\\n",
       "0        394913         1     New York, NY 2015-03-31  348629.7250   \n",
       "1        753899         2  Los Angeles, CA 2015-03-31  501808.0759   \n",
       "2        394463         3      Chicago, IL 2015-03-31  184034.2766   \n",
       "3        394514         4       Dallas, TX 2015-03-31  176313.3574   \n",
       "4        394692         5      Houston, TX 2015-03-31  171025.8352   \n",
       "...         ...       ...              ...        ...          ...   \n",
       "50535    395004       853   Prineville, OR 2023-01-31  411448.5173   \n",
       "50536    753884       859       Hailey, ID 2023-01-31  811777.1684   \n",
       "50537    394718       892    Jamestown, ND 2023-01-31  185189.4713   \n",
       "50538    394996       907     Portales, NM 2023-01-31  122624.8499   \n",
       "50539    395186       922   Vermillion, SD 2023-01-31  234414.8829   \n",
       "\n",
       "       RentalPrice  Year         city state  \n",
       "0      2385.219396  2015     New York    NY  \n",
       "1      1914.730864  2015  Los Angeles    CA  \n",
       "2      1422.672410  2015      Chicago    IL  \n",
       "3      1157.334850  2015       Dallas    TX  \n",
       "4      1308.796225  2015      Houston    TX  \n",
       "...            ...   ...          ...   ...  \n",
       "50535  1600.000000  2023   Prineville    OR  \n",
       "50536  2375.000000  2023       Hailey    ID  \n",
       "50537   689.333333  2023    Jamestown    ND  \n",
       "50538   930.000000  2023     Portales    NM  \n",
       "50539  1250.000000  2023   Vermillion    SD  \n",
       "\n",
       "[29232 rows x 9 columns]"
      ]
     },
     "execution_count": 12,
     "metadata": {},
     "output_type": "execute_result"
    }
   ],
   "source": [
    "merged_df"
   ]
  },
  {
   "cell_type": "markdown",
   "id": "5e2e0c69",
   "metadata": {},
   "source": [
    "## Data Analysis:"
   ]
  },
  {
   "cell_type": "markdown",
   "id": "c838d980",
   "metadata": {},
   "source": [
    "### Calculate meaningful metrics or statistics to gain insights into the real estate market, such as average home prices, rental trends, or any other relevant factors."
   ]
  },
  {
   "cell_type": "markdown",
   "id": "2241cc0b",
   "metadata": {},
   "source": [
    "**Average Home Prices by Year:**"
   ]
  },
  {
   "cell_type": "code",
   "execution_count": 13,
   "id": "1354a573",
   "metadata": {},
   "outputs": [
    {
     "data": {
      "text/html": [
       "<div>\n",
       "<style scoped>\n",
       "    .dataframe tbody tr th:only-of-type {\n",
       "        vertical-align: middle;\n",
       "    }\n",
       "\n",
       "    .dataframe tbody tr th {\n",
       "        vertical-align: top;\n",
       "    }\n",
       "\n",
       "    .dataframe thead th {\n",
       "        text-align: right;\n",
       "    }\n",
       "</style>\n",
       "<table border=\"1\" class=\"dataframe\">\n",
       "  <thead>\n",
       "    <tr style=\"text-align: right;\">\n",
       "      <th></th>\n",
       "      <th>Year</th>\n",
       "      <th>HomePrice</th>\n",
       "    </tr>\n",
       "  </thead>\n",
       "  <tbody>\n",
       "    <tr>\n",
       "      <th>0</th>\n",
       "      <td>2015</td>\n",
       "      <td>194076.489072</td>\n",
       "    </tr>\n",
       "    <tr>\n",
       "      <th>1</th>\n",
       "      <td>2016</td>\n",
       "      <td>202576.588259</td>\n",
       "    </tr>\n",
       "    <tr>\n",
       "      <th>2</th>\n",
       "      <td>2017</td>\n",
       "      <td>209624.752642</td>\n",
       "    </tr>\n",
       "    <tr>\n",
       "      <th>3</th>\n",
       "      <td>2018</td>\n",
       "      <td>221581.118263</td>\n",
       "    </tr>\n",
       "    <tr>\n",
       "      <th>4</th>\n",
       "      <td>2019</td>\n",
       "      <td>231757.451989</td>\n",
       "    </tr>\n",
       "    <tr>\n",
       "      <th>5</th>\n",
       "      <td>2020</td>\n",
       "      <td>246192.834691</td>\n",
       "    </tr>\n",
       "    <tr>\n",
       "      <th>6</th>\n",
       "      <td>2021</td>\n",
       "      <td>281713.803106</td>\n",
       "    </tr>\n",
       "    <tr>\n",
       "      <th>7</th>\n",
       "      <td>2022</td>\n",
       "      <td>309795.881025</td>\n",
       "    </tr>\n",
       "    <tr>\n",
       "      <th>8</th>\n",
       "      <td>2023</td>\n",
       "      <td>295717.586822</td>\n",
       "    </tr>\n",
       "  </tbody>\n",
       "</table>\n",
       "</div>"
      ],
      "text/plain": [
       "   Year      HomePrice\n",
       "0  2015  194076.489072\n",
       "1  2016  202576.588259\n",
       "2  2017  209624.752642\n",
       "3  2018  221581.118263\n",
       "4  2019  231757.451989\n",
       "5  2020  246192.834691\n",
       "6  2021  281713.803106\n",
       "7  2022  309795.881025\n",
       "8  2023  295717.586822"
      ]
     },
     "execution_count": 13,
     "metadata": {},
     "output_type": "execute_result"
    }
   ],
   "source": [
    "average_home_prices = merged_df.groupby('Year')['HomePrice'].mean()\n",
    "average_home_prices.reset_index()"
   ]
  },
  {
   "cell_type": "markdown",
   "id": "e1e8df46",
   "metadata": {},
   "source": [
    " **Average Rental Prices by Year:**\n"
   ]
  },
  {
   "cell_type": "code",
   "execution_count": 14,
   "id": "5b510e8d",
   "metadata": {},
   "outputs": [
    {
     "data": {
      "text/html": [
       "<div>\n",
       "<style scoped>\n",
       "    .dataframe tbody tr th:only-of-type {\n",
       "        vertical-align: middle;\n",
       "    }\n",
       "\n",
       "    .dataframe tbody tr th {\n",
       "        vertical-align: top;\n",
       "    }\n",
       "\n",
       "    .dataframe thead th {\n",
       "        text-align: right;\n",
       "    }\n",
       "</style>\n",
       "<table border=\"1\" class=\"dataframe\">\n",
       "  <thead>\n",
       "    <tr style=\"text-align: right;\">\n",
       "      <th></th>\n",
       "      <th>Year</th>\n",
       "      <th>RentalPrice</th>\n",
       "    </tr>\n",
       "  </thead>\n",
       "  <tbody>\n",
       "    <tr>\n",
       "      <th>0</th>\n",
       "      <td>2015</td>\n",
       "      <td>1077.672058</td>\n",
       "    </tr>\n",
       "    <tr>\n",
       "      <th>1</th>\n",
       "      <td>2016</td>\n",
       "      <td>1131.551025</td>\n",
       "    </tr>\n",
       "    <tr>\n",
       "      <th>2</th>\n",
       "      <td>2017</td>\n",
       "      <td>1160.745971</td>\n",
       "    </tr>\n",
       "    <tr>\n",
       "      <th>3</th>\n",
       "      <td>2018</td>\n",
       "      <td>1200.146708</td>\n",
       "    </tr>\n",
       "    <tr>\n",
       "      <th>4</th>\n",
       "      <td>2019</td>\n",
       "      <td>1247.869215</td>\n",
       "    </tr>\n",
       "    <tr>\n",
       "      <th>5</th>\n",
       "      <td>2020</td>\n",
       "      <td>1290.616823</td>\n",
       "    </tr>\n",
       "    <tr>\n",
       "      <th>6</th>\n",
       "      <td>2021</td>\n",
       "      <td>1411.154924</td>\n",
       "    </tr>\n",
       "    <tr>\n",
       "      <th>7</th>\n",
       "      <td>2022</td>\n",
       "      <td>1524.466085</td>\n",
       "    </tr>\n",
       "    <tr>\n",
       "      <th>8</th>\n",
       "      <td>2023</td>\n",
       "      <td>1500.258758</td>\n",
       "    </tr>\n",
       "  </tbody>\n",
       "</table>\n",
       "</div>"
      ],
      "text/plain": [
       "   Year  RentalPrice\n",
       "0  2015  1077.672058\n",
       "1  2016  1131.551025\n",
       "2  2017  1160.745971\n",
       "3  2018  1200.146708\n",
       "4  2019  1247.869215\n",
       "5  2020  1290.616823\n",
       "6  2021  1411.154924\n",
       "7  2022  1524.466085\n",
       "8  2023  1500.258758"
      ]
     },
     "execution_count": 14,
     "metadata": {},
     "output_type": "execute_result"
    }
   ],
   "source": [
    "average_rental_prices = merged_df.groupby('Year')['RentalPrice'].mean().reset_index()\n",
    "average_rental_prices"
   ]
  },
  {
   "cell_type": "markdown",
   "id": "f26f9652",
   "metadata": {},
   "source": [
    "#### Total Number of Regions:\n"
   ]
  },
  {
   "cell_type": "code",
   "execution_count": 15,
   "id": "ec0e8f1b",
   "metadata": {},
   "outputs": [
    {
     "data": {
      "text/plain": [
       "532"
      ]
     },
     "execution_count": 15,
     "metadata": {},
     "output_type": "execute_result"
    }
   ],
   "source": [
    "total_regions = merged_df['RegionID'].nunique()\n",
    "total_regions"
   ]
  },
  {
   "cell_type": "markdown",
   "id": "bc3b775b",
   "metadata": {},
   "source": [
    "#### Region with the Highest Home Price:"
   ]
  },
  {
   "cell_type": "code",
   "execution_count": 16,
   "id": "473388da",
   "metadata": {},
   "outputs": [
    {
     "name": "stdout",
     "output_type": "stream",
     "text": [
      "San Jose, CA is the region having highest price: 1473831.987\n"
     ]
    }
   ],
   "source": [
    "region_highest_home_price = merged_df.loc[merged_df['HomePrice'].idxmax(), 'Location']\n",
    "highest_home_price = merged_df['HomePrice'].max()\n",
    "print(f'{region_highest_home_price} is the region having highest price: {highest_home_price}')"
   ]
  },
  {
   "cell_type": "markdown",
   "id": "27a7f5d0",
   "metadata": {},
   "source": [
    "#### Region with the Highest Rental Price:\n"
   ]
  },
  {
   "cell_type": "code",
   "execution_count": 17,
   "id": "3aae96df",
   "metadata": {},
   "outputs": [
    {
     "name": "stdout",
     "output_type": "stream",
     "text": [
      "Glenwood Springs, CO is the region having highest price: 28465.27778\n"
     ]
    }
   ],
   "source": [
    "region_highest_rental_price = merged_df.loc[merged_df['RentalPrice'].idxmax(), 'Location']\n",
    "highest_rental_price = merged_df['RentalPrice'].max()\n",
    "print(f'{region_highest_rental_price} is the region having highest price: {highest_rental_price}')"
   ]
  },
  {
   "cell_type": "markdown",
   "id": "7f65c26e",
   "metadata": {},
   "source": [
    "#### Correlation between Home Prices and Rental Prices:\n"
   ]
  },
  {
   "cell_type": "code",
   "execution_count": 18,
   "id": "3420b975",
   "metadata": {},
   "outputs": [
    {
     "data": {
      "text/plain": [
       "0.5093751561476981"
      ]
     },
     "execution_count": 18,
     "metadata": {},
     "output_type": "execute_result"
    }
   ],
   "source": [
    "correlation = merged_df['HomePrice'].corr(merged_df['RentalPrice'])\n",
    "correlation"
   ]
  },
  {
   "cell_type": "markdown",
   "id": "9efdc681",
   "metadata": {},
   "source": [
    "There is a medium positive correlation between home price and rental price"
   ]
  },
  {
   "cell_type": "markdown",
   "id": "d8b919a4",
   "metadata": {},
   "source": [
    "### Conduct exploratory data analysis to identify patterns, trends, or correlations in the data."
   ]
  },
  {
   "cell_type": "markdown",
   "id": "ef5febc8",
   "metadata": {},
   "source": [
    "#### Pattern in Prices Over Time\n"
   ]
  },
  {
   "cell_type": "code",
   "execution_count": 19,
   "id": "7d358e7f",
   "metadata": {},
   "outputs": [
    {
     "data": {
      "image/png": "[encoded data removed]",
      "text/plain": [
       "<Figure size 1000x600 with 1 Axes>"
      ]
     },
     "metadata": {},
     "output_type": "display_data"
    },
    {
     "data": {
      "image/png": "[encoded data removed]",
      "text/plain": [
       "<Figure size 1000x600 with 1 Axes>"
      ]
     },
     "metadata": {},
     "output_type": "display_data"
    }
   ],
   "source": [
    "# Calculate average prices by year\n",
    "average_home_prices = merged_df.groupby('Year')['HomePrice'].mean()\n",
    "average_rental_prices = merged_df.groupby('Year')['RentalPrice'].mean()\n",
    "\n",
    "# Plot average home prices and rental prices over time\n",
    "plt.figure(figsize=(10, 6))\n",
    "plt.plot(average_home_prices.index, average_home_prices, label='Average Home Price')\n",
    "plt.xlabel('Year')\n",
    "plt.ylabel('Price')\n",
    "plt.title('Average Home Prices Over Time')\n",
    "plt.legend()\n",
    "plt.grid(True)\n",
    "plt.show()\n",
    "\n",
    "plt.figure(figsize=(10, 6))\n",
    "plt.plot(average_rental_prices.index, average_rental_prices, label='Average Rental Price')\n",
    "plt.xlabel('Year')\n",
    "plt.ylabel('Price')\n",
    "plt.title('Average Rental Prices Over Time')\n",
    "plt.legend()\n",
    "plt.grid(True)\n",
    "plt.show()\n"
   ]
  },
  {
   "cell_type": "markdown",
   "id": "55258411",
   "metadata": {},
   "source": [
    "#### Observation:\n",
    "* Home Prices and Rental prices are following exactly same pattern over the years\n",
    "* Except the differnce in prices.\n",
    "* So the above graphs also justifies the correlation as well.\n",
    "* The prices increased over the years of both house and rental.\n",
    "* There is a major price bump after 2020"
   ]
  },
  {
   "cell_type": "markdown",
   "id": "bc1d5a5c",
   "metadata": {},
   "source": [
    "#### Heatmap of Correlation:"
   ]
  },
  {
   "cell_type": "code",
   "execution_count": 20,
   "id": "2664aa72",
   "metadata": {},
   "outputs": [
    {
     "data": {
      "image/png": "[encoded data removed]",
      "text/plain": [
       "<Figure size 800x600 with 2 Axes>"
      ]
     },
     "metadata": {},
     "output_type": "display_data"
    }
   ],
   "source": [
    "import seaborn as sns\n",
    "\n",
    "# Calculate correlation matrix\n",
    "correlation_matrix = merged_df[['HomePrice', 'RentalPrice']].corr()\n",
    "\n",
    "# Plot correlation heatmap\n",
    "plt.figure(figsize=(8, 6))\n",
    "sns.heatmap(correlation_matrix, annot=True, cmap='coolwarm', fmt=\".2f\", linewidths=0.5)\n",
    "plt.title('Correlation Heatmap: Home Price vs Rental Price')\n",
    "plt.show()"
   ]
  },
  {
   "cell_type": "markdown",
   "id": "c4169f91",
   "metadata": {},
   "source": [
    "### Top 10 States"
   ]
  },
  {
   "cell_type": "markdown",
   "id": "cad9e922",
   "metadata": {},
   "source": [
    "#### Top 10 States having highest house prices"
   ]
  },
  {
   "cell_type": "code",
   "execution_count": 21,
   "id": "23d3a027",
   "metadata": {},
   "outputs": [],
   "source": [
    "plt.style.use('ggplot')"
   ]
  },
  {
   "cell_type": "code",
   "execution_count": 22,
   "id": "9560bf98",
   "metadata": {},
   "outputs": [
    {
     "data": {
      "text/plain": [
       "state\n",
       " HI    681319.741890\n",
       " CA    505024.016392\n",
       " DC    425247.266504\n",
       " CO    392531.597835\n",
       " WA    364502.559410\n",
       " UT    361209.643204\n",
       " OR    346474.340770\n",
       " MA    343042.006092\n",
       " NV    342826.558069\n",
       " MT    321390.893279\n",
       "Name: HomePrice, dtype: float64"
      ]
     },
     "execution_count": 22,
     "metadata": {},
     "output_type": "execute_result"
    }
   ],
   "source": [
    "merged_df.groupby(['state'])['HomePrice'].mean().sort_values(ascending = False).head(10)"
   ]
  },
  {
   "cell_type": "code",
   "execution_count": 23,
   "id": "97caba07",
   "metadata": {},
   "outputs": [
    {
     "data": {
      "image/png": "[encoded data removed]",
      "text/plain": [
       "<Figure size 640x480 with 1 Axes>"
      ]
     },
     "metadata": {},
     "output_type": "display_data"
    }
   ],
   "source": [
    "merged_df.groupby(['state'])['HomePrice'].mean().sort_values(ascending = False).head(10).plot(kind = 'bar')\n",
    "plt.title('Top 10 State Having highest Houses Price')\n",
    "plt.ylabel('Prices')\n",
    "plt.show()"
   ]
  },
  {
   "cell_type": "markdown",
   "id": "6c53868d",
   "metadata": {},
   "source": [
    "#### Top 10 States Having highest Rental Prices\n"
   ]
  },
  {
   "cell_type": "code",
   "execution_count": 24,
   "id": "33e95a28",
   "metadata": {},
   "outputs": [
    {
     "data": {
      "text/plain": [
       "state\n",
       " CO    3020.032347\n",
       " HI    2470.361381\n",
       " CA    1927.959941\n",
       " DC    1919.250866\n",
       " MA    1707.543686\n",
       " NJ    1656.291590\n",
       " VT    1547.377930\n",
       " FL    1472.688869\n",
       " CT    1459.130982\n",
       " NV    1459.015891\n",
       "Name: RentalPrice, dtype: float64"
      ]
     },
     "execution_count": 24,
     "metadata": {},
     "output_type": "execute_result"
    }
   ],
   "source": [
    "merged_df.groupby(['state'])['RentalPrice'].mean().sort_values(ascending = False).head(10)"
   ]
  },
  {
   "cell_type": "code",
   "execution_count": 25,
   "id": "0537a443",
   "metadata": {},
   "outputs": [
    {
     "data": {
      "image/png": "[encoded data removed]",
      "text/plain": [
       "<Figure size 640x480 with 1 Axes>"
      ]
     },
     "metadata": {},
     "output_type": "display_data"
    }
   ],
   "source": [
    "merged_df.groupby(['state'])['RentalPrice'].mean().sort_values(ascending = False).head(10).plot(kind = 'bar')\n",
    "plt.title('Top 10 State Having highest Rental Prices')\n",
    "plt.ylabel('Prices')\n",
    "plt.show()"
   ]
  },
  {
   "cell_type": "markdown",
   "id": "28e99470",
   "metadata": {},
   "source": [
    "#### Top 10 States Having Lowest Rental Prices"
   ]
  },
  {
   "cell_type": "code",
   "execution_count": 26,
   "id": "8f99892f",
   "metadata": {},
   "outputs": [
    {
     "data": {
      "text/plain": [
       "state\n",
       " WI    977.006521\n",
       " NE    969.271013\n",
       " OK    962.097232\n",
       " OH    944.678774\n",
       " IL    939.056140\n",
       " MO    928.519449\n",
       " IN    916.997832\n",
       " IA    912.789629\n",
       " KS    897.530596\n",
       " WV    849.504786\n",
       "Name: RentalPrice, dtype: float64"
      ]
     },
     "execution_count": 26,
     "metadata": {},
     "output_type": "execute_result"
    }
   ],
   "source": [
    "merged_df.groupby(['state'])['RentalPrice'].mean().sort_values(ascending = False).tail(10)"
   ]
  },
  {
   "cell_type": "code",
   "execution_count": 27,
   "id": "aae930bf",
   "metadata": {},
   "outputs": [
    {
     "data": {
      "image/png": "[encoded data removed]",
      "text/plain": [
       "<Figure size 640x480 with 1 Axes>"
      ]
     },
     "metadata": {},
     "output_type": "display_data"
    }
   ],
   "source": [
    "merged_df.groupby(['state'])['RentalPrice'].mean().sort_values(ascending = False).tail(10).plot(kind = 'bar')\n",
    "plt.title('Top 10 State Having Lowest Rental Prices')\n",
    "plt.ylabel('Prices')\n",
    "plt.show()"
   ]
  },
  {
   "cell_type": "markdown",
   "id": "23668dcb",
   "metadata": {},
   "source": [
    "#### Top 10 state havig lowest House Prices"
   ]
  },
  {
   "cell_type": "code",
   "execution_count": 28,
   "id": "6cfc3663",
   "metadata": {},
   "outputs": [
    {
     "data": {
      "text/plain": [
       "state\n",
       " LA    169779.827558\n",
       " GA    168176.359318\n",
       " IN    153072.020102\n",
       " KS    152644.073276\n",
       " MS    152333.691063\n",
       " AR    152228.015975\n",
       " OH    151111.606675\n",
       " IL    143799.843330\n",
       " OK    137683.259694\n",
       " WV    126701.130824\n",
       "Name: HomePrice, dtype: float64"
      ]
     },
     "execution_count": 28,
     "metadata": {},
     "output_type": "execute_result"
    }
   ],
   "source": [
    "merged_df.groupby(['state'])['HomePrice'].mean().sort_values(ascending = False).tail(10)"
   ]
  },
  {
   "cell_type": "code",
   "execution_count": 29,
   "id": "9d080a25",
   "metadata": {},
   "outputs": [
    {
     "data": {
      "image/png": "[encoded data removed]",
      "text/plain": [
       "<Figure size 640x480 with 1 Axes>"
      ]
     },
     "metadata": {},
     "output_type": "display_data"
    }
   ],
   "source": [
    "merged_df.groupby(['state'])['HomePrice'].mean().sort_values(ascending = False).tail(10).plot(kind = 'bar')\n",
    "plt.title('Top 10 State Having Lowest Houses Price')\n",
    "plt.ylabel('Prices')\n",
    "plt.show()"
   ]
  },
  {
   "cell_type": "markdown",
   "id": "33399406",
   "metadata": {},
   "source": [
    "### Top 10 Cities"
   ]
  },
  {
   "cell_type": "markdown",
   "id": "6d36882f",
   "metadata": {},
   "source": [
    "#### Top 10 Cities having highest house prices"
   ]
  },
  {
   "cell_type": "code",
   "execution_count": 30,
   "id": "35d91e86",
   "metadata": {},
   "outputs": [
    {
     "data": {
      "text/plain": [
       "city\n",
       "San Jose           1.058198e+06\n",
       "Breckenridge       9.338299e+05\n",
       "San Francisco      8.885943e+05\n",
       "Kahului            8.690675e+05\n",
       "Hailey             8.117772e+05\n",
       "Santa Cruz         8.045241e+05\n",
       "Napa               6.717408e+05\n",
       "Urban Honolulu     6.698227e+05\n",
       "Los Angeles        6.445692e+05\n",
       "Barnstable Town    6.339493e+05\n",
       "Name: HomePrice, dtype: float64"
      ]
     },
     "execution_count": 30,
     "metadata": {},
     "output_type": "execute_result"
    }
   ],
   "source": [
    "merged_df.groupby(['city'])['HomePrice'].mean().sort_values(ascending = False).head(10)"
   ]
  },
  {
   "cell_type": "code",
   "execution_count": 31,
   "id": "8814c5d5",
   "metadata": {},
   "outputs": [
    {
     "data": {
      "image/png": "[encoded data removed]",
      "text/plain": [
       "<Figure size 640x480 with 1 Axes>"
      ]
     },
     "metadata": {},
     "output_type": "display_data"
    }
   ],
   "source": [
    "merged_df.groupby(['city'])['HomePrice'].mean().sort_values(ascending = False).head(10).plot(kind = 'bar')\n",
    "plt.title('Top 10 Cities Having highest Houses Price')\n",
    "plt.ylabel('Prices')\n",
    "plt.show()"
   ]
  },
  {
   "cell_type": "markdown",
   "id": "a1825c4e",
   "metadata": {},
   "source": [
    "#### Top 10 Cities Having highest Rental Prices"
   ]
  },
  {
   "cell_type": "code",
   "execution_count": 32,
   "id": "dbb2c90e",
   "metadata": {},
   "outputs": [
    {
     "data": {
      "text/plain": [
       "city\n",
       "Glenwood Springs    16499.943200\n",
       "Breckenridge         4000.000000\n",
       "Kahului              3093.830186\n",
       "Key West             3011.269923\n",
       "San Jose             2866.870374\n",
       "San Francisco        2783.934678\n",
       "New York             2617.719111\n",
       "Santa Cruz           2608.037786\n",
       "Hilo                 2605.971544\n",
       "Boston               2503.632994\n",
       "Name: RentalPrice, dtype: float64"
      ]
     },
     "execution_count": 32,
     "metadata": {},
     "output_type": "execute_result"
    }
   ],
   "source": [
    "merged_df.groupby(['city'])['RentalPrice'].mean().sort_values(ascending = False).head(10)"
   ]
  },
  {
   "cell_type": "code",
   "execution_count": 33,
   "id": "2e0538a7",
   "metadata": {},
   "outputs": [
    {
     "data": {
      "image/png": "[encoded data removed]",
      "text/plain": [
       "<Figure size 640x480 with 1 Axes>"
      ]
     },
     "metadata": {},
     "output_type": "display_data"
    }
   ],
   "source": [
    "merged_df.groupby(['city'])['RentalPrice'].mean().sort_values(ascending = False).head(10).plot(kind = 'bar')\n",
    "plt.title('Top 10 State Having highest Rental Prices')\n",
    "plt.ylabel('Prices')\n",
    "plt.show()"
   ]
  },
  {
   "cell_type": "markdown",
   "id": "1f145456",
   "metadata": {},
   "source": [
    "#### Top 10 Cities having lowest house prices"
   ]
  },
  {
   "cell_type": "code",
   "execution_count": 34,
   "id": "98871d47",
   "metadata": {},
   "outputs": [
    {
     "data": {
      "text/plain": [
       "city\n",
       "Carbondale    99712.424142\n",
       "Great Bend    98167.913360\n",
       "Youngstown    97959.806242\n",
       "Hutchinson    97847.601939\n",
       "Ponca City    97201.255100\n",
       "Lawton        96651.844981\n",
       "Muncie        96233.958586\n",
       "Pine Bluff    87742.592395\n",
       "Johnstown     77148.718504\n",
       "Danville      70675.446617\n",
       "Name: HomePrice, dtype: float64"
      ]
     },
     "execution_count": 34,
     "metadata": {},
     "output_type": "execute_result"
    }
   ],
   "source": [
    "merged_df.groupby(['city'])['HomePrice'].mean().sort_values(ascending = False).tail(10)"
   ]
  },
  {
   "cell_type": "code",
   "execution_count": 35,
   "id": "159e83d6",
   "metadata": {},
   "outputs": [
    {
     "data": {
      "image/png": "[encoded data removed]",
      "text/plain": [
       "<Figure size 640x480 with 1 Axes>"
      ]
     },
     "metadata": {},
     "output_type": "display_data"
    }
   ],
   "source": [
    "merged_df.groupby(['city'])['HomePrice'].mean().sort_values(ascending = False).tail(10).plot(kind = 'bar')\n",
    "plt.title('Top 10 Cities Having lowest Houses Price')\n",
    "plt.ylabel('Prices')\n",
    "plt.show()"
   ]
  },
  {
   "cell_type": "markdown",
   "id": "99b252de",
   "metadata": {},
   "source": [
    "#### Top 10 Cities having lowest Rental prices"
   ]
  },
  {
   "cell_type": "code",
   "execution_count": 36,
   "id": "fffcd189",
   "metadata": {},
   "outputs": [
    {
     "data": {
      "text/plain": [
       "city\n",
       "Warrensburg    693.991358\n",
       "Frankfort      692.279757\n",
       "Youngstown     679.302122\n",
       "Kirksville     676.246725\n",
       "Kokomo         675.156009\n",
       "Ashland        673.547388\n",
       "Meadville      650.000000\n",
       "Danville       649.335166\n",
       "Carbondale     643.885739\n",
       "Hutchinson     596.382136\n",
       "Name: RentalPrice, dtype: float64"
      ]
     },
     "execution_count": 36,
     "metadata": {},
     "output_type": "execute_result"
    }
   ],
   "source": [
    "merged_df.groupby(['city'])['RentalPrice'].mean().sort_values(ascending = False).tail(10)"
   ]
  },
  {
   "cell_type": "code",
   "execution_count": 37,
   "id": "40a2e0a2",
   "metadata": {},
   "outputs": [
    {
     "data": {
      "image/png": "[encoded data removed]",
      "text/plain": [
       "<Figure size 640x480 with 1 Axes>"
      ]
     },
     "metadata": {},
     "output_type": "display_data"
    }
   ],
   "source": [
    "merged_df.groupby(['city'])['RentalPrice'].mean().sort_values(ascending = False).tail(10).plot(kind = 'bar')\n",
    "plt.title('Top 10 State Having lowest Rental Prices')\n",
    "plt.ylabel('Prices')\n",
    "plt.show()"
   ]
  },
  {
   "cell_type": "markdown",
   "id": "ae62ed26",
   "metadata": {},
   "source": [
    "## Summary of Findings:\n"
   ]
  },
  {
   "cell_type": "markdown",
   "id": "37371cab",
   "metadata": {},
   "source": [
    "* San Jose, CA is the region having highest price: 1473831.987\n",
    "* Glenwood Springs, CO is the region having highest price: 28465.27778\n",
    "* There is a medium positive correlation between home price and rental price\n",
    "* Home Prices and Rental prices are following exactly same pattern over the years\n",
    "* Except the differnce in prices.\n",
    "* So the above graphs also justifies the correlation as well.\n",
    "* The prices increased over the years of both house and rental.\n",
    "* There is a major price bump after 2020\n",
    "* HI is the state having highest house price\n",
    "* CO is the state having highest Rental price\n",
    "* WI is the state having lowest Rental price\n",
    "* LA is the state having lowest house price\n",
    "* San Jose city is having highest house price\n",
    "* Glenwood city is having Springs highest Rental price\n",
    "* Carbondale city is having lowest house price\n",
    "* Warrensburg city is having lowest rental price"
   ]
  },
  {
   "cell_type": "markdown",
   "id": "2be824ef",
   "metadata": {},
   "source": [
    "## Output Files:"
   ]
  },
  {
   "cell_type": "markdown",
   "id": "48e04eb5",
   "metadata": {},
   "source": [
    "1. merged_data.csv: Contains the cleaned and merged data from the homes_df and rentals_df DataFrames. It includes the columns:\n",
    "* city\n",
    "* state\n",
    "* year\n",
    "* home_price\n",
    "* rent"
   ]
  },
  {
   "cell_type": "code",
   "execution_count": 38,
   "id": "d294598c",
   "metadata": {},
   "outputs": [],
   "source": [
    "merged_data = merged_df[['city', 'state', 'Year', 'HomePrice', 'RentalPrice']]\n",
    "merged_data.to_csv('merged_data.csv', index = False)"
   ]
  },
  {
   "cell_type": "markdown",
   "id": "c4a76408",
   "metadata": {},
   "source": [
    "2. average_prices_by_year.csv: This CSV file contains the average prices for homes and rentals by year. It includes the columns:\n",
    "* date\n",
    "* home_price_mean\n",
    "* rent_mean"
   ]
  },
  {
   "cell_type": "code",
   "execution_count": 39,
   "id": "53073229",
   "metadata": {},
   "outputs": [
    {
     "data": {
      "text/html": [
       "<div>\n",
       "<style scoped>\n",
       "    .dataframe tbody tr th:only-of-type {\n",
       "        vertical-align: middle;\n",
       "    }\n",
       "\n",
       "    .dataframe tbody tr th {\n",
       "        vertical-align: top;\n",
       "    }\n",
       "\n",
       "    .dataframe thead th {\n",
       "        text-align: right;\n",
       "    }\n",
       "</style>\n",
       "<table border=\"1\" class=\"dataframe\">\n",
       "  <thead>\n",
       "    <tr style=\"text-align: right;\">\n",
       "      <th></th>\n",
       "      <th>home_price_mean</th>\n",
       "      <th>rent_mean</th>\n",
       "    </tr>\n",
       "    <tr>\n",
       "      <th>Year</th>\n",
       "      <th></th>\n",
       "      <th></th>\n",
       "    </tr>\n",
       "  </thead>\n",
       "  <tbody>\n",
       "    <tr>\n",
       "      <th>2015</th>\n",
       "      <td>194076.489072</td>\n",
       "      <td>1077.672058</td>\n",
       "    </tr>\n",
       "    <tr>\n",
       "      <th>2016</th>\n",
       "      <td>202576.588259</td>\n",
       "      <td>1131.551025</td>\n",
       "    </tr>\n",
       "    <tr>\n",
       "      <th>2017</th>\n",
       "      <td>209624.752642</td>\n",
       "      <td>1160.745971</td>\n",
       "    </tr>\n",
       "    <tr>\n",
       "      <th>2018</th>\n",
       "      <td>221581.118263</td>\n",
       "      <td>1200.146708</td>\n",
       "    </tr>\n",
       "    <tr>\n",
       "      <th>2019</th>\n",
       "      <td>231757.451989</td>\n",
       "      <td>1247.869215</td>\n",
       "    </tr>\n",
       "    <tr>\n",
       "      <th>2020</th>\n",
       "      <td>246192.834691</td>\n",
       "      <td>1290.616823</td>\n",
       "    </tr>\n",
       "    <tr>\n",
       "      <th>2021</th>\n",
       "      <td>281713.803106</td>\n",
       "      <td>1411.154924</td>\n",
       "    </tr>\n",
       "    <tr>\n",
       "      <th>2022</th>\n",
       "      <td>309795.881025</td>\n",
       "      <td>1524.466085</td>\n",
       "    </tr>\n",
       "    <tr>\n",
       "      <th>2023</th>\n",
       "      <td>295717.586822</td>\n",
       "      <td>1500.258758</td>\n",
       "    </tr>\n",
       "  </tbody>\n",
       "</table>\n",
       "</div>"
      ],
      "text/plain": [
       "      home_price_mean    rent_mean\n",
       "Year                              \n",
       "2015    194076.489072  1077.672058\n",
       "2016    202576.588259  1131.551025\n",
       "2017    209624.752642  1160.745971\n",
       "2018    221581.118263  1200.146708\n",
       "2019    231757.451989  1247.869215\n",
       "2020    246192.834691  1290.616823\n",
       "2021    281713.803106  1411.154924\n",
       "2022    309795.881025  1524.466085\n",
       "2023    295717.586822  1500.258758"
      ]
     },
     "execution_count": 39,
     "metadata": {},
     "output_type": "execute_result"
    }
   ],
   "source": [
    "#average_prices_by_year\n",
    "average_prices_by_year = merged_df.groupby('Year').agg(home_price_mean = ('HomePrice', 'mean'), \n",
    "                                                       rent_mean = ('RentalPrice', 'mean'))\n",
    "average_prices_by_year"
   ]
  },
  {
   "cell_type": "code",
   "execution_count": 40,
   "id": "f4650f64",
   "metadata": {},
   "outputs": [],
   "source": [
    "average_prices_by_year.to_csv('average_prices_by_year.csv')"
   ]
  },
  {
   "cell_type": "markdown",
   "id": "360d6ed1",
   "metadata": {},
   "source": [
    "3. top_10_cities_home_price.csv: This CSV file contains the top 10 cities with the highest average home price. It includes the columns:\n",
    "* city\n",
    "* state\n",
    "* home_price"
   ]
  },
  {
   "cell_type": "code",
   "execution_count": 41,
   "id": "f9d7385b",
   "metadata": {},
   "outputs": [],
   "source": [
    "top_10_cities_home_price  = merged_df.groupby(['city', 'state'])['HomePrice'].mean().sort_values(ascending = False).head(10).reset_index()"
   ]
  },
  {
   "cell_type": "code",
   "execution_count": 42,
   "id": "97db8f2a",
   "metadata": {},
   "outputs": [],
   "source": [
    "top_10_cities_home_price.to_csv('top_10_cities_home_price.csv', index = False)"
   ]
  },
  {
   "cell_type": "markdown",
   "id": "c594717a",
   "metadata": {},
   "source": [
    "4. top_10_cities_rent.csv: This CSV file contains the top 10 cities with the highest average rent. It includes the columns:\n",
    "* city\n",
    "* state\n",
    "* rent"
   ]
  },
  {
   "cell_type": "code",
   "execution_count": 43,
   "id": "fae515d0",
   "metadata": {},
   "outputs": [],
   "source": [
    "top_10_cities_rent  = merged_df.groupby(['city', 'state'])['RentalPrice'].mean().sort_values(ascending = False).head(10).reset_index()\n",
    "\n"
   ]
  },
  {
   "cell_type": "code",
   "execution_count": 44,
   "id": "e28f1023",
   "metadata": {},
   "outputs": [
    {
     "data": {
      "text/html": [
       "<div>\n",
       "<style scoped>\n",
       "    .dataframe tbody tr th:only-of-type {\n",
       "        vertical-align: middle;\n",
       "    }\n",
       "\n",
       "    .dataframe tbody tr th {\n",
       "        vertical-align: top;\n",
       "    }\n",
       "\n",
       "    .dataframe thead th {\n",
       "        text-align: right;\n",
       "    }\n",
       "</style>\n",
       "<table border=\"1\" class=\"dataframe\">\n",
       "  <thead>\n",
       "    <tr style=\"text-align: right;\">\n",
       "      <th></th>\n",
       "      <th>city</th>\n",
       "      <th>state</th>\n",
       "      <th>RentalPrice</th>\n",
       "    </tr>\n",
       "  </thead>\n",
       "  <tbody>\n",
       "    <tr>\n",
       "      <th>0</th>\n",
       "      <td>Glenwood Springs</td>\n",
       "      <td>CO</td>\n",
       "      <td>16499.943200</td>\n",
       "    </tr>\n",
       "    <tr>\n",
       "      <th>1</th>\n",
       "      <td>Breckenridge</td>\n",
       "      <td>CO</td>\n",
       "      <td>4000.000000</td>\n",
       "    </tr>\n",
       "    <tr>\n",
       "      <th>2</th>\n",
       "      <td>Kahului</td>\n",
       "      <td>HI</td>\n",
       "      <td>3093.830186</td>\n",
       "    </tr>\n",
       "    <tr>\n",
       "      <th>3</th>\n",
       "      <td>Key West</td>\n",
       "      <td>FL</td>\n",
       "      <td>3011.269923</td>\n",
       "    </tr>\n",
       "    <tr>\n",
       "      <th>4</th>\n",
       "      <td>San Jose</td>\n",
       "      <td>CA</td>\n",
       "      <td>2866.870374</td>\n",
       "    </tr>\n",
       "    <tr>\n",
       "      <th>5</th>\n",
       "      <td>San Francisco</td>\n",
       "      <td>CA</td>\n",
       "      <td>2783.934678</td>\n",
       "    </tr>\n",
       "    <tr>\n",
       "      <th>6</th>\n",
       "      <td>New York</td>\n",
       "      <td>NY</td>\n",
       "      <td>2617.719111</td>\n",
       "    </tr>\n",
       "    <tr>\n",
       "      <th>7</th>\n",
       "      <td>Santa Cruz</td>\n",
       "      <td>CA</td>\n",
       "      <td>2608.037786</td>\n",
       "    </tr>\n",
       "    <tr>\n",
       "      <th>8</th>\n",
       "      <td>Hilo</td>\n",
       "      <td>HI</td>\n",
       "      <td>2605.971544</td>\n",
       "    </tr>\n",
       "    <tr>\n",
       "      <th>9</th>\n",
       "      <td>Boston</td>\n",
       "      <td>MA</td>\n",
       "      <td>2503.632994</td>\n",
       "    </tr>\n",
       "  </tbody>\n",
       "</table>\n",
       "</div>"
      ],
      "text/plain": [
       "               city state   RentalPrice\n",
       "0  Glenwood Springs    CO  16499.943200\n",
       "1      Breckenridge    CO   4000.000000\n",
       "2           Kahului    HI   3093.830186\n",
       "3          Key West    FL   3011.269923\n",
       "4          San Jose    CA   2866.870374\n",
       "5     San Francisco    CA   2783.934678\n",
       "6          New York    NY   2617.719111\n",
       "7        Santa Cruz    CA   2608.037786\n",
       "8              Hilo    HI   2605.971544\n",
       "9            Boston    MA   2503.632994"
      ]
     },
     "execution_count": 44,
     "metadata": {},
     "output_type": "execute_result"
    }
   ],
   "source": [
    "top_10_cities_rent"
   ]
  },
  {
   "cell_type": "code",
   "execution_count": 45,
   "id": "6af6c188",
   "metadata": {},
   "outputs": [],
   "source": [
    "top_10_cities_rent.to_csv('top_10_cities_rent.csv', index = False)"
   ]
  },
  {
   "cell_type": "code",
   "execution_count": null,
   "id": "92e28ddf",
   "metadata": {},
   "outputs": [],
   "source": []
  }
 ],
 "metadata": {
  "kernelspec": {
   "display_name": "Python 3 (ipykernel)",
   "language": "python",
   "name": "python3"
  },
  "language_info": {
   "codemirror_mode": {
    "name": "ipython",
    "version": 3
   },
   "file_extension": ".py",
   "mimetype": "text/x-python",
   "name": "python",
   "nbconvert_exporter": "python",
   "pygments_lexer": "ipython3",
   "version": "3.9.18"
  }
 },
 "nbformat": 4,
 "nbformat_minor": 5
}
